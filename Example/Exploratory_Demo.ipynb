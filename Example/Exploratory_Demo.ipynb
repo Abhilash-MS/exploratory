{
 "cells": [
  {
   "cell_type": "code",
   "execution_count": 1,
   "id": "bce9567a",
   "metadata": {},
   "outputs": [
    {
     "name": "stdout",
     "output_type": "stream",
     "text": [
      "Requirement already satisfied: exploratory in /Users/amaspa646/opt/anaconda3/lib/python3.9/site-packages (3.4.11)\n",
      "Requirement already satisfied: seaborn in /Users/amaspa646/opt/anaconda3/lib/python3.9/site-packages (from exploratory) (0.11.2)\n",
      "Requirement already satisfied: PyPDF2 in /Users/amaspa646/opt/anaconda3/lib/python3.9/site-packages (from exploratory) (2.11.2)\n",
      "Requirement already satisfied: fpdf in /Users/amaspa646/opt/anaconda3/lib/python3.9/site-packages (from exploratory) (1.7.2)\n",
      "Requirement already satisfied: pathlib in /Users/amaspa646/opt/anaconda3/lib/python3.9/site-packages (from exploratory) (1.0.1)\n",
      "Requirement already satisfied: matplotlib in /Users/amaspa646/opt/anaconda3/lib/python3.9/site-packages (from exploratory) (3.6.0)\n",
      "Requirement already satisfied: pandas in /Users/amaspa646/opt/anaconda3/lib/python3.9/site-packages (from exploratory) (1.4.2)\n",
      "Requirement already satisfied: pillow>=6.2.0 in /Users/amaspa646/opt/anaconda3/lib/python3.9/site-packages (from matplotlib->exploratory) (9.0.1)\n",
      "Requirement already satisfied: contourpy>=1.0.1 in /Users/amaspa646/opt/anaconda3/lib/python3.9/site-packages (from matplotlib->exploratory) (1.0.6)\n",
      "Requirement already satisfied: packaging>=20.0 in /Users/amaspa646/opt/anaconda3/lib/python3.9/site-packages (from matplotlib->exploratory) (21.3)\n",
      "Requirement already satisfied: kiwisolver>=1.0.1 in /Users/amaspa646/opt/anaconda3/lib/python3.9/site-packages (from matplotlib->exploratory) (1.3.2)\n",
      "Requirement already satisfied: pyparsing>=2.2.1 in /Users/amaspa646/opt/anaconda3/lib/python3.9/site-packages (from matplotlib->exploratory) (3.0.4)\n",
      "Requirement already satisfied: numpy>=1.19 in /Users/amaspa646/opt/anaconda3/lib/python3.9/site-packages (from matplotlib->exploratory) (1.21.5)\n",
      "Requirement already satisfied: fonttools>=4.22.0 in /Users/amaspa646/opt/anaconda3/lib/python3.9/site-packages (from matplotlib->exploratory) (4.25.0)\n",
      "Requirement already satisfied: python-dateutil>=2.7 in /Users/amaspa646/opt/anaconda3/lib/python3.9/site-packages (from matplotlib->exploratory) (2.8.2)\n",
      "Requirement already satisfied: cycler>=0.10 in /Users/amaspa646/opt/anaconda3/lib/python3.9/site-packages (from matplotlib->exploratory) (0.11.0)\n",
      "Requirement already satisfied: pytz>=2020.1 in /Users/amaspa646/opt/anaconda3/lib/python3.9/site-packages (from pandas->exploratory) (2021.3)\n",
      "Requirement already satisfied: typing_extensions>=3.10.0.0 in /Users/amaspa646/opt/anaconda3/lib/python3.9/site-packages (from PyPDF2->exploratory) (4.1.1)\n",
      "Requirement already satisfied: scipy>=1.0 in /Users/amaspa646/opt/anaconda3/lib/python3.9/site-packages (from seaborn->exploratory) (1.7.3)\n",
      "Requirement already satisfied: six>=1.5 in /Users/amaspa646/opt/anaconda3/lib/python3.9/site-packages (from python-dateutil>=2.7->matplotlib->exploratory) (1.16.0)\n"
     ]
    }
   ],
   "source": [
    "#installing package\n",
    "!pip install exploratory --upgrade"
   ]
  },
  {
   "cell_type": "code",
   "execution_count": 2,
   "id": "fdfd5feb",
   "metadata": {},
   "outputs": [],
   "source": [
    "#importing exploratory and pandas packages\n",
    "import exploratory as ed\n",
    "import pandas as pd"
   ]
  },
  {
   "cell_type": "code",
   "execution_count": 3,
   "id": "9bb7ef86",
   "metadata": {},
   "outputs": [
    {
     "data": {
      "text/html": [
       "<div>\n",
       "<style scoped>\n",
       "    .dataframe tbody tr th:only-of-type {\n",
       "        vertical-align: middle;\n",
       "    }\n",
       "\n",
       "    .dataframe tbody tr th {\n",
       "        vertical-align: top;\n",
       "    }\n",
       "\n",
       "    .dataframe thead th {\n",
       "        text-align: right;\n",
       "    }\n",
       "</style>\n",
       "<table border=\"1\" class=\"dataframe\">\n",
       "  <thead>\n",
       "    <tr style=\"text-align: right;\">\n",
       "      <th></th>\n",
       "      <th>index</th>\n",
       "      <th>TITLE</th>\n",
       "      <th>RELEASE_YEAR</th>\n",
       "      <th>SCORE</th>\n",
       "      <th>MAIN_GENRE</th>\n",
       "      <th>MAIN_PRODUCTION</th>\n",
       "    </tr>\n",
       "  </thead>\n",
       "  <tbody>\n",
       "    <tr>\n",
       "      <th>0</th>\n",
       "      <td>0</td>\n",
       "      <td>White Christmas</td>\n",
       "      <td>1954</td>\n",
       "      <td>7.50</td>\n",
       "      <td>romance</td>\n",
       "      <td>US</td>\n",
       "    </tr>\n",
       "    <tr>\n",
       "      <th>1</th>\n",
       "      <td>1</td>\n",
       "      <td>The Guns of Navarone</td>\n",
       "      <td>1961</td>\n",
       "      <td>7.50</td>\n",
       "      <td>war</td>\n",
       "      <td>US</td>\n",
       "    </tr>\n",
       "    <tr>\n",
       "      <th>2</th>\n",
       "      <td>2</td>\n",
       "      <td>My Fair Lady</td>\n",
       "      <td>1964</td>\n",
       "      <td>7.80</td>\n",
       "      <td>drama</td>\n",
       "      <td>US</td>\n",
       "    </tr>\n",
       "    <tr>\n",
       "      <th>3</th>\n",
       "      <td>3</td>\n",
       "      <td>Bonnie and Clyde</td>\n",
       "      <td>1967</td>\n",
       "      <td>7.70</td>\n",
       "      <td>drama</td>\n",
       "      <td>US</td>\n",
       "    </tr>\n",
       "    <tr>\n",
       "      <th>4</th>\n",
       "      <td>4</td>\n",
       "      <td>Dirty Harry</td>\n",
       "      <td>1971</td>\n",
       "      <td>7.70</td>\n",
       "      <td>thriller</td>\n",
       "      <td>US</td>\n",
       "    </tr>\n",
       "  </tbody>\n",
       "</table>\n",
       "</div>"
      ],
      "text/plain": [
       "   index                 TITLE  RELEASE_YEAR                SCORE MAIN_GENRE  \\\n",
       "0      0       White Christmas          1954                 7.50    romance   \n",
       "1      1  The Guns of Navarone          1961                 7.50        war   \n",
       "2      2          My Fair Lady          1964                 7.80      drama   \n",
       "3      3      Bonnie and Clyde          1967                 7.70      drama   \n",
       "4      4           Dirty Harry          1971                 7.70   thriller   \n",
       "\n",
       "  MAIN_PRODUCTION  \n",
       "0              US  \n",
       "1              US  \n",
       "2              US  \n",
       "3              US  \n",
       "4              US  "
      ]
     },
     "execution_count": 3,
     "metadata": {},
     "output_type": "execute_result"
    }
   ],
   "source": [
    "df=pd.read_csv('Best Movie by Year Netflix.csv')\n",
    "df.head()"
   ]
  },
  {
   "cell_type": "code",
   "execution_count": 4,
   "id": "5e3d352f",
   "metadata": {},
   "outputs": [
    {
     "name": "stdout",
     "output_type": "stream",
     "text": [
      "Current Path/Directory:/Users/amaspa646/Desktop/package test/\n",
      "Please enter desired DPI value for images 100, 150, 200, 250, 300 \n",
      " Note: as DPI values increases runtime increases : 300\n",
      "Path exists!\n",
      "####################################################################################################\n",
      "Folders are created for the graphs by datatypes in your current directory\n",
      "####################################################################################################\n",
      "####################################################################################################\n",
      "Droppping unique identifiers for exploratory analysis, changing to accurate data types for analysis\n",
      "####################################################################################################\n",
      "####################################################################################################\n",
      "Data types changed\n",
      "####################################################################################################\n",
      "####################################################################################################\n",
      "Generating CSV of summary statistics\n",
      "####################################################################################################\n",
      "Check the Summary_Statistics.csv in the following directory /Users/amaspa646/Desktop/package test/ !!\n",
      "####################################################################################################\n",
      "Completed CSV generation of summary statistics\n",
      "####################################################################################################\n",
      "####################################################################################################\n",
      "Generating PDF of summary statistics\n",
      "####################################################################################################\n",
      "####################################################################################################\n",
      "Completed PDF generation summary statistics\n",
      "####################################################################################################\n",
      "####################################################################################################\n",
      "Starting Integer data type variables exploratory analysis \n",
      "####################################################################################################\n",
      "####################################################################################################\n",
      "Graphing complete for Integer data type variables\n",
      "####################################################################################################\n",
      "####################################################################################################\n",
      "Generating PDF for Integer data type variables\n",
      "####################################################################################################\n",
      "####################################################################################################\n",
      "PDF Generation complete for Integer data type variables\n",
      "####################################################################################################\n",
      "####################################################################################################\n",
      "Starting Float data type variables exploratory analysis \n",
      "####################################################################################################\n",
      "####################################################################################################\n",
      "Graphing complete for Float data type variables\n",
      "####################################################################################################\n",
      "####################################################################################################\n",
      "Generating PDF for Float data type variables\n",
      "####################################################################################################\n",
      "####################################################################################################\n",
      "PDF Generation complete for Float data type variables\n",
      "####################################################################################################\n",
      "####################################################################################################\n",
      "Starting String/object data type variables exploratory analysis \n",
      "####################################################################################################\n",
      "####################################################################################################\n",
      "Graphing complete for String/object data type variables\n",
      "####################################################################################################\n",
      "####################################################################################################\n",
      "Generating PDF for String/object data type variables\n",
      "####################################################################################################\n",
      "####################################################################################################\n",
      "PDF Generation complete for String/object data type variables\n",
      "####################################################################################################\n",
      "####################################################################################################\n",
      "Generating Combined PDF for all data type variables\n",
      "####################################################################################################\n",
      "####################################################################################################\n",
      "Combined PDF Complete for all data type variables, summary statistics executed suceessfully \n",
      "Check the Exploratory_Data_Analysis.pdf in the following directory /Users/amaspa646/Desktop/package test/ !!\n",
      "####################################################################################################\n"
     ]
    },
    {
     "data": {
      "image/png": "[encoded data removed]",
      "text/plain": [
       "<Figure size 864x288 with 1 Axes>"
      ]
     },
     "metadata": {
      "needs_background": "light"
     },
     "output_type": "display_data"
    }
   ],
   "source": [
    "ed.EDA(df)"
   ]
  },
  {
   "cell_type": "code",
   "execution_count": null,
   "id": "6f1c3c20",
   "metadata": {},
   "outputs": [],
   "source": []
  }
 ],
 "metadata": {
  "kernelspec": {
   "display_name": "Python 3 (ipykernel)",
   "language": "python",
   "name": "python3"
  },
  "language_info": {
   "codemirror_mode": {
    "name": "ipython",
    "version": 3
   },
   "file_extension": ".py",
   "mimetype": "text/x-python",
   "name": "python",
   "nbconvert_exporter": "python",
   "pygments_lexer": "ipython3",
   "version": "3.9.12"
  }
 },
 "nbformat": 4,
 "nbformat_minor": 5
}
